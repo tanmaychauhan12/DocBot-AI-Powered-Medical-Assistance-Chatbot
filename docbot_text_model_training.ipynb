{
 "cells": [
  {
   "cell_type": "code",
   "execution_count": null,
   "id": "ccf653bf-2813-4241-8b8f-066a49287229",
   "metadata": {},
   "outputs": [],
   "source": [
    "# Step 1: Load & Clean Data\n",
    "import pandas as pd\n",
    "import re\n",
    "import nltk\n",
    "from nltk.corpus import stopwords\n",
    "nltk.download('stopwords')"
   ]
  },
  {
   "cell_type": "code",
   "execution_count": null,
   "id": "9f3c69f2-34b3-438d-8a8d-1ebd30703378",
   "metadata": {},
   "outputs": [],
   "source": [
    "file_path = 'ai-medical-chatbot.csv'\n",
    "df = pd.read_csv(file_path)"
   ]
  },
  {
   "cell_type": "code",
   "execution_count": null,
   "id": "57f47d7a-d054-4d16-a47c-94a00013f634",
   "metadata": {},
   "outputs": [],
   "source": [
    "# Drop rows with missing values\n",
    "df.dropna(subset=[\"Description\", \"Patient\", \"Doctor\"], inplace=True)"
   ]
  },
  {
   "cell_type": "code",
   "execution_count": null,
   "id": "71c68d23-ad1a-40f9-a575-529bdab75564",
   "metadata": {},
   "outputs": [],
   "source": [
    "# Create combined input and preserve original output\n",
    "df[\"RawInput\"] = df[\"Description\"].astype(str) + \" \" + df[\"Patient\"].astype(str)\n",
    "df[\"Output\"] = df[\"Doctor\"].astype(str)"
   ]
  },
  {
   "cell_type": "code",
   "execution_count": null,
   "id": "31604e2e-546f-4518-bfec-5e4585bfafaa",
   "metadata": {},
   "outputs": [],
   "source": [
    "# Clean input only\n",
    "def clean_text(text):\n",
    "    text = text.lower()\n",
    "    text = re.sub(r\"http\\S+|www\\S+|https\\S+\", '', text)\n",
    "    text = re.sub(r'\\@\\w+|\\#', '', text)\n",
    "    text = re.sub(r'[^\\w\\s]', '', text)\n",
    "    text = re.sub(r'\\d+', '', text)\n",
    "    text = re.sub(r'\\s+', ' ', text).strip()\n",
    "    return text"
   ]
  },
  {
   "cell_type": "code",
   "execution_count": null,
   "id": "719ee630-db97-47be-98c5-6579211f23ad",
   "metadata": {},
   "outputs": [],
   "source": [
    "# Apply cleaning and stopword removal on input only\n",
    "stop_words = set(stopwords.words('english'))\n",
    "df[\"CleanInput\"] = df[\"RawInput\"].apply(lambda x: ' '.join([word for word in clean_text(x).split() if word not in stop_words]))"
   ]
  },
  {
   "cell_type": "code",
   "execution_count": null,
   "id": "8b8bd22e-7f88-475e-8013-0180321f2549",
   "metadata": {},
   "outputs": [],
   "source": [
    "# Final cleaned dataframe\n",
    "df_cleaned = df[[\"CleanInput\", \"Output\"]]\n",
    "df_cleaned.to_csv(\"cleaned_docbot_dataset.csv\", index=False)\n",
    "print(\"Cleaned data saved to 'cleaned_docbot_dataset.csv'\")"
   ]
  },
  {
   "cell_type": "code",
   "execution_count": null,
   "id": "c9f1dd2a-5748-489c-b78e-e9037fc0f628",
   "metadata": {},
   "outputs": [],
   "source": [
    "# Load the cleaned data again\n",
    "df = pd.read_csv(\"cleaned_docbot_dataset.csv\")"
   ]
  },
  {
   "cell_type": "code",
   "execution_count": null,
   "id": "4c532999-f026-4365-b1b6-3f8bec610f08",
   "metadata": {},
   "outputs": [],
   "source": [
    "# Fill missing (if any)\n",
    "df['CleanInput'] = df['CleanInput'].astype(str).fillna('')\n",
    "df['Output'] = df['Output'].astype(str).fillna('')"
   ]
  },
  {
   "cell_type": "code",
   "execution_count": null,
   "id": "a2fd4e7e-2724-4761-8e56-c0d5afddace9",
   "metadata": {},
   "outputs": [],
   "source": [
    "from sklearn.feature_extraction.text import TfidfVectorizer\n",
    "from sklearn.metrics.pairwise import cosine_similarity\n",
    "import joblib"
   ]
  },
  {
   "cell_type": "code",
   "execution_count": null,
   "id": "1aab8ea3-fb51-4088-808a-a596fdf94577",
   "metadata": {},
   "outputs": [],
   "source": [
    "# Vectorize inputs\n",
    "vectorizer = TfidfVectorizer()\n",
    "X = vectorizer.fit_transform(df['CleanInput'])\n",
    "\n",
    "joblib.dump(vectorizer, \"tfidf_vectorizer.joblib\")\n",
    "print(\"TF-IDF vectorizer model saved as 'tfidf_vectorizer.joblib'\")"
   ]
  },
  {
   "cell_type": "code",
   "execution_count": null,
   "id": "8ac99376-0b19-48e8-a3f6-62363f678f81",
   "metadata": {},
   "outputs": [],
   "source": [
    "def get_response(user_input):\n",
    "    user_input_cleaned = ' '.join([\n",
    "        word for word in clean_text(user_input).split()\n",
    "        if word not in stop_words\n",
    "    ])\n",
    "    user_vec = vectorizer.transform([user_input_cleaned])\n",
    "    sim_scores = cosine_similarity(user_vec, X)\n",
    "    best_match = sim_scores.argmax()\n",
    "    base_response = df_cleaned.iloc[best_match]['Output']\n",
    "    \n",
    "    # Add medicine suggestion based on keyword\n",
    "    lower_input = user_input.lower()\n",
    "\n",
    "    if \"fever\" in lower_input:\n",
    "        base_response += \" Recommended: Paracetamol 500mg every 6-8 hours if needed.\"\n",
    "    elif \"headache\" in lower_input:\n",
    "        base_response += \" Try: Crocin or mild ibuprofen (only after food).\"\n",
    "    elif \"cold\" in lower_input:\n",
    "        base_response += \" Suggested: Cetrizine or Levocetirizine at night.\"\n",
    "    elif \"dandruff\" in lower_input:\n",
    "        base_response += \" Use: Nizoral 2% shampoo twice weekly, Ketoconazole lotion.\"\n",
    "    elif \"acne\" in lower_input:\n",
    "        base_response += \" Suggested meds: Clindamycin gel (topical), Doxycycline (if prescribed).\"\n",
    "    elif \"cough\" in lower_input:\n",
    "        base_response += \" Recommended: Benadryl or Ascoril (only under supervision).\"\n",
    "\n",
    "    return base_response"
   ]
  },
  {
   "cell_type": "code",
   "execution_count": null,
   "id": "736924d3-816f-4f8a-81c2-3e85adf37c48",
   "metadata": {},
   "outputs": [],
   "source": [
    "# Step 4: Chat Loop\n",
    "print(\"Doc-Bot Ready! Type 'exit' to quit.\")\n",
    "while True:\n",
    "    query = input(\"You: \")\n",
    "    if query.lower() == \"exit\":\n",
    "        break\n",
    "    response = get_response(query)\n",
    "    print(\"Doc-Bot:\", response)"
   ]
  },
  {
   "cell_type": "code",
   "execution_count": null,
   "id": "952204fb-a7a1-4f6c-9158-04bab969115a",
   "metadata": {},
   "outputs": [
    {
     "data": {
      "text/html": [
       "<a href='cleaned_docbot_dataset.csv' target='_blank'>cleaned_docbot_dataset.csv</a><br>"
      ],
      "text/plain": [
       "C:\\Users\\Tanmay Chauhan\\Desktop\\Python\\cleaned_docbot_dataset.csv"
      ]
     },
     "metadata": {},
     "output_type": "display_data"
    },
    {
     "data": {
      "text/html": [
       "<a href='tfidf_vectorizer.joblib' target='_blank'>tfidf_vectorizer.joblib</a><br>"
      ],
      "text/plain": [
       "C:\\Users\\Tanmay Chauhan\\Desktop\\Python\\tfidf_vectorizer.joblib"
      ]
     },
     "metadata": {},
     "output_type": "display_data"
    }
   ],
   "source": [
    "# Step 5: Download\n",
    "from IPython.display import FileLink, display\n",
    "display(FileLink(\"cleaned_docbot_dataset.csv\"))\n",
    "display(FileLink(\"tfidf_vectorizer.joblib\"))"
   ]
  },
  {
   "cell_type": "code",
   "execution_count": null,
   "id": "d7e1d29b-cd76-4ccf-96c8-aa90d506718e",
   "metadata": {},
   "outputs": [],
   "source": []
  }
 ],
 "metadata": {
  "kernelspec": {
   "display_name": "Python 3 (ipykernel)",
   "language": "python",
   "name": "python3"
  },
  "language_info": {
   "codemirror_mode": {
    "name": "ipython",
    "version": 3
   },
   "file_extension": ".py",
   "mimetype": "text/x-python",
   "name": "python",
   "nbconvert_exporter": "python",
   "pygments_lexer": "ipython3",
   "version": "3.12.4"
  }
 },
 "nbformat": 4,
 "nbformat_minor": 5
}
